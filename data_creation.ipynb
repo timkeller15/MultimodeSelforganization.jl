{
 "cells": [
  {
   "cell_type": "code",
   "execution_count": null,
   "metadata": {},
   "outputs": [],
   "source": [
    "using MultimodeSelforganization, Printf"
   ]
  },
  {
   "cell_type": "markdown",
   "metadata": {},
   "source": [
    "## Figs. 3/7 - Trajectory statistics for a single quench "
   ]
  },
  {
   "cell_type": "code",
   "execution_count": null,
   "metadata": {},
   "outputs": [],
   "source": [
    "N, trajectories = 100, 1000\n",
    "\n",
    "for (α1,α2) in [(2.5,0.5), (2.,2.)]\n",
    "    fname = @sprintf(\"data/quench_N%d_alpha1_%2.2f_alpha2_%2.2f_tf_4e6_trajectories_%d_GPU.jls\",N,α1,α2,trajectories)\n",
    "    sim = Simulation(CanonicalSys(N = N, α1 = α1, α2 = α2), tf = 4e6, trajectories = trajectories, device = :GPU, fname = fname)\n",
    "    simulate!(sim)\n",
    "end"
   ]
  },
  {
   "cell_type": "markdown",
   "metadata": {},
   "source": [
    "## Figs. 4/5 - Quenching into the ferromagnetic phase for varying N"
   ]
  },
  {
   "cell_type": "code",
   "execution_count": null,
   "metadata": {},
   "outputs": [],
   "source": [
    "N_range = [25, 50, 100, 200]\n",
    "α1, α2 = 2.5, 0.5\n",
    "\n",
    "for N in N_range\n",
    "    trajectories = Int(25e3/N)\n",
    "    fname = @sprintf(\"data/quench_N%d_alpha1_%2.2f_alpha2_%2.2f_tf_4e6_trajectories_%d_GPU.jls\",N,α1,α2,trajectories)\n",
    "    sim = Simulation(CanonicalSys(N = N, α1 = α1, α2 = α2), tf = 4e6, trajectories = trajectories, device = :GPU, fname = fname)\n",
    "    simulate!(sim)\n",
    "end"
   ]
  },
  {
   "cell_type": "markdown",
   "metadata": {},
   "source": [
    "## Fig. 6 - Quenching into the ferromagnetic phase for varying α"
   ]
  },
  {
   "cell_type": "code",
   "execution_count": null,
   "metadata": {},
   "outputs": [],
   "source": [
    "N = 100\n",
    "trajectories = Int(25e3/N)\n",
    "α_range = [0.50, 0.6, 0.7, 0.75, 0.8, 0.85, 0.9, 0.95, 1., 1.05, 1.1, 1.2, 1.3, 1.4, 1.5, 1.75, 2., 2.5, 3., 3.5, 4.]\n",
    "\n",
    "for α in α_range\n",
    "    α1 = α \n",
    "    α2 = α/5\n",
    "    fname = @sprintf(\"data/quench_N%d_alpha1_%2.2f_alpha2_%2.2f_tf_4e6_trajectories_%d_GPU.jls\",N,α1,α2,trajectories)\n",
    "    sim = Simulation(CanonicalSys(N = N, α1 = α1, α2 = α2), tf = 4e6, trajectories = trajectories, device = :GPU, fname = fname)\n",
    "    simulate!(sim)\n",
    "end"
   ]
  },
  {
   "cell_type": "markdown",
   "metadata": {},
   "source": [
    "## Figs. 8/9 - Quenching into the mixed phase for varying N"
   ]
  },
  {
   "cell_type": "code",
   "execution_count": null,
   "metadata": {},
   "outputs": [],
   "source": [
    "N_range = [25, 50, 100, 200]\n",
    "α1, α2 = 2., 2.\n",
    "\n",
    "for N in N_range\n",
    "    trajectories = Int(25e3/N)\n",
    "    fname = @sprintf(\"data/quench_N%d_alpha1_%2.2f_alpha2_%2.2f_tf_4e6_trajectories_%d_GPU.jls\",N,α1,α2,trajectories)\n",
    "    sim = Simulation(CanonicalSys(N = N, α1 = α1, α2 = α2), tf = 4e6, trajectories = trajectories, device = :GPU, fname = fname)\n",
    "    simulate!(sim)\n",
    "end"
   ]
  },
  {
   "cell_type": "markdown",
   "metadata": {},
   "source": [
    "## Fig. 10 - Quenching into the mixed phase for varying α"
   ]
  },
  {
   "cell_type": "code",
   "execution_count": null,
   "metadata": {},
   "outputs": [],
   "source": [
    "N = 100\n",
    "trajectories = Int(25e3/N)\n",
    "α_range = [0.50, 0.6, 0.7, 0.75, 0.8, 0.85, 0.9, 0.95, 1., 1.05, 1.1, 1.2, 1.3, 1.4, 1.5, 1.75, 2., 2.5, 3., 3.5, 4.]\n",
    "\n",
    "for α in α_range\n",
    "    α1 = α \n",
    "    α2 = α\n",
    "    fname = @sprintf(\"data/quench_N%d_alpha1_%2.2f_alpha2_%2.2f_tf_4e6_trajectories_%d_GPU.jls\",N,α1,α2,trajectories)\n",
    "    sim = Simulation(CanonicalSys(N = N, α1 = α1, α2 = α2), tf = 4e6, trajectories = trajectories, device = :GPU, fname = fname)\n",
    "    @time simulate!(sim)\n",
    "end"
   ]
  },
  {
   "cell_type": "markdown",
   "metadata": {},
   "source": [
    "## Fig. 11/12 - Slow ramps into the mixed phase: observables"
   ]
  },
  {
   "cell_type": "code",
   "execution_count": null,
   "metadata": {},
   "outputs": [],
   "source": [
    "N, α1, α2, trajectories = 100, 2., 2., 250\n",
    "τ_range = [5.5e2, 6.8e3, 8.5e4, 2e6]\n",
    "\n",
    "for τ in τ_range \n",
    "    fname = @sprintf(\"data/ramp_tau_%.1e_N%d_alpha1_%2.2f_alpha2_%2.2f_tf_4e6_trajectories_%d_GPU.jls\",τ,N,α1,α2,trajectories)\n",
    "    sim = Simulation(CanonicalSys(N = N, α1 = α1, α2 = α2), tf = 4e6, τ = τ, trajectories = trajectories, device = :GPU, fname = fname)\n",
    "    @time simulate!(sim)\n",
    "end"
   ]
  },
  {
   "cell_type": "markdown",
   "metadata": {},
   "source": [
    "## Fig. 13 - Slow ramps into the mixed phase: final magnetizations"
   ]
  },
  {
   "cell_type": "code",
   "execution_count": null,
   "metadata": {},
   "outputs": [],
   "source": [
    "N, α1, α2, trajectories = 100, 2., 2., 250\n",
    "τ_range = 10.0.^LinRange(0,log10(2) + 6,24)\n",
    "\n",
    "for τ in τ_range\n",
    "    fname = @sprintf(\"data/ramp_tau_%.1e_N%d_alpha1_%2.2f_alpha2_%2.2f_tf_4e6_trajectories_%d_GPU.jls\",τ,N,α1,α2,trajectories)\n",
    "    sim = Simulation(CanonicalSys(N = N, α1 = α1, α2 = α2), tf = 4e6, τ = τ, trajectories = trajectories, device = :GPU, fname = fname)\n",
    "    @time simulate!(sim)\n",
    "end"
   ]
  },
  {
   "cell_type": "markdown",
   "metadata": {},
   "source": [
    "## Figs. 14/15/16 - Two-step quenches into the mixed phase"
   ]
  },
  {
   "cell_type": "code",
   "execution_count": null,
   "metadata": {},
   "outputs": [],
   "source": [
    "N, α1, α2, trajectories = 100, 2., 2., 250\n",
    "τ_range = 10.0.^LinRange(0,6,13)\n",
    "α_tmp = 1.1\n",
    "\n",
    "for τ in τ_range\n",
    "    fname1 = @sprintf(\"data/two_step_quench_tau_%.1e_N%d_alpha1_%2.2f_alpha2_%2.2f_tf_4e6_trajectories_%d_GPU_part1.jls\",τ,N,α1,α2,trajectories)\n",
    "    sim1 = Simulation(CanonicalSys(N = N, α1 = α_tmp, α2 = α_tmp), tf = τ, trajectories = trajectories, device = :GPU, fname = fname1)\n",
    "    simulate!(sim1)\n",
    "    fname2 = @sprintf(\"data/two_step_quench_tau_%.1e_N%d_alpha1_%2.2f_alpha2_%2.2f_tf_4e6_trajectories_%d_GPU_part2.jls\",τ,N,α1,α2,trajectories)\n",
    "    sim2 = Simulation(CanonicalSys(N = N, α1 = α1, α2 = α2), u0 = sim1.u, tf = 4e6 - τ, trajectories = trajectories, device = :GPU, fname = fname2)\n",
    "    simulate!(sim2)\n",
    "end"
   ]
  },
  {
   "cell_type": "markdown",
   "metadata": {},
   "source": [
    "## Figs. 17/18/19 - Quenching into the mixed phase for varying initial temperatures"
   ]
  },
  {
   "cell_type": "code",
   "execution_count": null,
   "metadata": {},
   "outputs": [],
   "source": [
    "T_range = [0.1, 0.25, 0.5, 0.75, collect(1:5)...]\n",
    "N_range = [100, 200]\n",
    "α1, α2 = 2., 2.\n",
    "\n",
    "for N in N_range\n",
    "    trajectories = Int(25e3/N)\n",
    "    for T in T_range\n",
    "        fname = @sprintf(\"data/quench_N%d_alpha1_%2.2f_alpha2_%2.2f_temperature_%2.2f_tf_4e6_trajectories_%d_GPU.jls\",N,α1,α2,T,trajectories)\n",
    "        sim = Simulation(CanonicalSys(N = N, α1 = α1, α2 = α2, T = T), tf= 4e6, trajectories = trajectories, device = :GPU, fname = fname)\n",
    "        simulate!(sim)\n",
    "    end\n",
    "end"
   ]
  }
 ],
 "metadata": {
  "accelerator": "GPU",
  "colab": {
   "gpuType": "A100",
   "machine_shape": "hm",
   "provenance": [
    {
     "file_id": "1nQ-KuSyICY80pLiBsAH_hyV46y2W67CE",
     "timestamp": 1733462982703
    }
   ]
  },
  "kernelspec": {
   "display_name": "Julia 1.11.2",
   "language": "julia",
   "name": "julia-1.11"
  },
  "language_info": {
   "file_extension": ".jl",
   "mimetype": "application/julia",
   "name": "julia",
   "version": "1.11.2"
  }
 },
 "nbformat": 4,
 "nbformat_minor": 1
}
